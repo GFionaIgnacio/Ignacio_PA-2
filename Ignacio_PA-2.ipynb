{
 "cells": [
  {
   "cell_type": "markdown",
   "id": "2a76d2e9-2f61-411a-8203-6a9035cac642",
   "metadata": {},
   "source": [
    "# 1. Normalization Problem"
   ]
  },
  {
   "cell_type": "code",
   "execution_count": 39,
   "id": "8eefbd0c-c22e-4fbe-adcc-198224b41a3c",
   "metadata": {},
   "outputs": [
    {
     "name": "stdout",
     "output_type": "stream",
     "text": [
      "Original array:\n",
      " [[0.64442862 0.31153996 0.11543769 0.12439619 0.7028066 ]\n",
      " [0.36086316 0.28309184 0.45382411 0.26004149 0.33154883]\n",
      " [0.74651928 0.35303944 0.71813637 0.70644438 0.47399934]\n",
      " [0.47648973 0.71160795 0.95072789 0.05838016 0.83935058]\n",
      " [0.76664201 0.7390947  0.90877487 0.86129906 0.16517067]]\n",
      "\n",
      "Normalized array:\n",
      " [[ 0.45445731 -0.78676911 -1.51796649 -1.48456335  0.67212854]\n",
      " [-0.60286    -0.8928423  -0.25624085 -0.97878904 -0.71216297]\n",
      " [ 0.83511797 -0.63203195  0.72928797  0.68569259 -0.18101438]\n",
      " [-0.17172858  0.70494573  1.59654108 -1.73071424  1.18125372]\n",
      " [ 0.91014867  0.80743431  1.44011282  1.26309201 -1.33252946]]\n"
     ]
    }
   ],
   "source": [
    "import numpy as np\n",
    "\n",
    "# Create a randon 5x5 nd array\n",
    "X = np.random.rand(5,5)\n",
    "\n",
    "# Calculate the mean & standard deviation of the array\n",
    "mean_X = X.mean()\n",
    "std_X = X.std()\n",
    "\n",
    "# Normalize the array using the formula: Z = (X - mean) / standard deviation \n",
    "X_normalized = (X - mean_X) / std_X\n",
    "\n",
    "# Save the normalized array to a file\n",
    "np.save('X_normalized.npy', X_normalized)\n",
    "\n",
    "# Print the original and normalized arrays \n",
    "print(\"Original array:\\n\", X)\n",
    "print(\"\\nNormalized array:\\n\", X_normalized)\n",
    "\n",
    "\n"
   ]
  },
  {
   "cell_type": "markdown",
   "id": "1ab6b291-2be6-46ee-81d6-585dd7d5f0cd",
   "metadata": {},
   "source": [
    "# 2. Divisible by 3 Problem "
   ]
  },
  {
   "cell_type": "code",
   "execution_count": 31,
   "id": "dfe56139-eaee-402e-a79d-1da10b77d588",
   "metadata": {},
   "outputs": [
    {
     "name": "stdout",
     "output_type": "stream",
     "text": [
      "10x10 Array A:\n",
      " [[    1     4     9    16    25    36    49    64    81   100]\n",
      " [  121   144   169   196   225   256   289   324   361   400]\n",
      " [  441   484   529   576   625   676   729   784   841   900]\n",
      " [  961  1024  1089  1156  1225  1296  1369  1444  1521  1600]\n",
      " [ 1681  1764  1849  1936  2025  2116  2209  2304  2401  2500]\n",
      " [ 2601  2704  2809  2916  3025  3136  3249  3364  3481  3600]\n",
      " [ 3721  3844  3969  4096  4225  4356  4489  4624  4761  4900]\n",
      " [ 5041  5184  5329  5476  5625  5776  5929  6084  6241  6400]\n",
      " [ 6561  6724  6889  7056  7225  7396  7569  7744  7921  8100]\n",
      " [ 8281  8464  8649  8836  9025  9216  9409  9604  9801 10000]]\n",
      "\n",
      "Elements divisible by 3:\n",
      " [   9   36   81  144  225  324  441  576  729  900 1089 1296 1521 1764\n",
      " 2025 2304 2601 2916 3249 3600 3969 4356 4761 5184 5625 6084 6561 7056\n",
      " 7569 8100 8649 9216 9801]\n"
     ]
    }
   ],
   "source": [
    "import numpy as np\n",
    "\n",
    "# Create an array with the first 100 positive integers and square each element to create 10x10 array\n",
    "integers = np.arange(1,101)**2\n",
    "\n",
    "# Reshape to 10x10 ndarray\n",
    "A = A.reshape(10,10)\n",
    "\n",
    "# Determine the elements divisible by 3\n",
    "divisible_by_3 = A[A % 3 == 0]\n",
    "\n",
    "# Save the result to a file\n",
    "np.save('div_by_3.npy', divisible_by_3)\n",
    "\n",
    "# Print the array and the elements divisible by 3\n",
    "print(\"10x10 Array A:\\n\", A)\n",
    "print(\"\\nElements divisible by 3:\\n\", divisible_by_3)"
   ]
  },
  {
   "cell_type": "code",
   "execution_count": null,
   "id": "d3585af3-757f-44b9-adc5-c7714218ebd9",
   "metadata": {},
   "outputs": [],
   "source": []
  }
 ],
 "metadata": {
  "kernelspec": {
   "display_name": "Python 3 (ipykernel)",
   "language": "python",
   "name": "python3"
  },
  "language_info": {
   "codemirror_mode": {
    "name": "ipython",
    "version": 3
   },
   "file_extension": ".py",
   "mimetype": "text/x-python",
   "name": "python",
   "nbconvert_exporter": "python",
   "pygments_lexer": "ipython3",
   "version": "3.12.4"
  }
 },
 "nbformat": 4,
 "nbformat_minor": 5
}
